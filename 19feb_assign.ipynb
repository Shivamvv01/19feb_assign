{
 "cells": [
  {
   "cell_type": "markdown",
   "id": "e9b97ffd-cf31-41ce-9b1a-402ed08c0744",
   "metadata": {},
   "source": [
    "Q1. What is Flask Framework? What are the advantages of Flask Framework?"
   ]
  },
  {
   "cell_type": "markdown",
   "id": "471e78c6-955a-4c92-98fa-b40fc3deb929",
   "metadata": {},
   "source": [
    "Flask is a lightweight and flexible Python web framework that is widely used for building web applications. It is known for its simplicity and ease of use. Advantages of Flask include:\n",
    "\n",
    "Simplicity: Flask has a simple and straightforward syntax, making it easy for developers to get started.\n",
    "\n",
    "Extensibility: Flask is highly extensible, allowing developers to add libraries and components as needed, making it suitable for a wide range of applications.\n",
    "\n",
    "Widespread Adoption: Flask is a popular framework with a large community of developers, which means there are plenty of resources and extensions available.\n",
    "\n",
    "Built-in Development Server: Flask comes with a built-in development server for testing and debugging applications.\n",
    "\n",
    "Jinja2 Templating: Flask uses the Jinja2 templating engine for rendering dynamic content in web pages.\n",
    "\n",
    "RESTful: Flask is well-suited for building RESTful APIs."
   ]
  },
  {
   "cell_type": "markdown",
   "id": "f9424caa-903f-4be9-b396-082cdd107b8e",
   "metadata": {},
   "source": [
    "Q2. Create a simple Flask application to display ‘Hello World!!’. Attach the screenshot of the output in\n",
    "Jupyter Notebook."
   ]
  },
  {
   "cell_type": "markdown",
   "id": "d952a7fb-38fe-4a74-9531-64d639ffd431",
   "metadata": {},
   "source": [
    "pip install flask"
   ]
  },
  {
   "cell_type": "raw",
   "id": "f3742a26-7dc2-4e04-8edf-87d60bcf8b97",
   "metadata": {},
   "source": [
    "from flask import Flask\n",
    "\n",
    "app=Flask(__name__)\n",
    "\n",
    "\n",
    "@app.route(\"/\")\n",
    "def function():\n",
    "    return \"Hello World!!\"\n",
    "\n",
    "if __name__==\"__main__\":\n",
    "    app.run(host=\"0.0.0.0\")"
   ]
  },
  {
   "cell_type": "markdown",
   "id": "d8db73df-0d8d-4516-9a41-85e9b0b4ff05",
   "metadata": {},
   "source": [
    "Q3. What is App routing in Flask? Why do we use app routes?"
   ]
  },
  {
   "cell_type": "markdown",
   "id": "3f8b67cd-ac37-487f-b30f-19ef0d59dc27",
   "metadata": {},
   "source": [
    "App routing in Flask refers to the process of mapping URLs (Uniform Resource Locators) to specific functions or views within a Flask application. It defines how different parts of your application respond to different URLs. App routes are created using decorators like @app.route('/path') in Flask.\n",
    "\n",
    "We use app routes in Flask for the following reasons:\n",
    "\n",
    "URL Handling: App routes allow us to define how different URLs are handled by our application. For example, we can define routes to display different pages or perform specific actions when a user visits a particular URL.\n",
    "\n",
    "Modularization: Routing allows us to modularize our application by associating specific functions with specific URLs. This makes the code more organized and maintainable.\n",
    "\n",
    "Dynamic Content: App routes are essential for creating dynamic web applications. They enable us to pass parameters through URLs and generate content based on user input.\n",
    "\n",
    "RESTful APIs: In the context of building RESTful APIs, app routes are used to define the API endpoints and their associated functions.\n",
    "\n",
    "Clean URL Structure: Routing helps create a clean and understandable URL structure for our web application, making it user-friendly and SEO-friendly."
   ]
  },
  {
   "cell_type": "raw",
   "id": "3efd0eac-cb5c-4129-aa8b-a1958390c267",
   "metadata": {},
   "source": [
    "Q4. Create a “/welcome” route to display the welcome message “Welcome to ABC Corporation” and a “/”\n",
    "route to show the following details:\n",
    "Company Name: ABC Corporation\n",
    "Location: India\n",
    "Contact Detail: 999-999-9999\n",
    "Attach the screenshot of the output in Jupyter Notebook."
   ]
  },
  {
   "cell_type": "raw",
   "id": "395f9a4b-dc0e-4cf8-92eb-8132487a4afa",
   "metadata": {},
   "source": [
    "from flask import Flask\n",
    "\n",
    "app=Flask(__name__)\n",
    "\n",
    "@app.route(\"/welcome\")\n",
    "def function1():\n",
    "    return \"Welcome to ABC Corporation\"\n",
    "\n",
    "@app.route(\"/\")\n",
    "def function2():\n",
    "        return '''\n",
    "    <h1>Company Name: ABC Corporation</h1>\n",
    "    <p>Location: India</p>\n",
    "    <p>Contact Detail: 999-999-9999</p>\n",
    "    '''\n",
    "    \n",
    "    \n",
    "    \n",
    "if __name__==\"__main__\":\n",
    "    app.run(host=\"0.0.0.0\")"
   ]
  },
  {
   "cell_type": "markdown",
   "id": "48883bbc-d97d-46db-a46c-c0980aec613e",
   "metadata": {},
   "source": [
    "Q5. What function is used in Flask for URL Building? Write a Python code to demonstrate the working of the\n",
    "url_for() function."
   ]
  },
  {
   "cell_type": "raw",
   "id": "15b7099b-e7f8-41a5-ad8a-050b6aa8d485",
   "metadata": {},
   "source": [
    "from flask import Flask , url_for\n",
    "\n",
    "app=Flask(__name__)\n",
    "\n",
    "@app.route(\"/\")\n",
    "def home():\n",
    "    return \"data science masters\"\n",
    "\n",
    "@app.route(\"/user/<name>\")\n",
    "def user(name):\n",
    "    return f\"Hello , {name}!\"\n",
    "\n",
    "\n",
    "if __name__==\"__main__\":\n",
    "    with app.test_request_context():\n",
    "        print(url_for(\"home\"))\n",
    "        print(url_for(\"user\",name='Alice'))"
   ]
  }
 ],
 "metadata": {
  "kernelspec": {
   "display_name": "Python 3 (ipykernel)",
   "language": "python",
   "name": "python3"
  },
  "language_info": {
   "codemirror_mode": {
    "name": "ipython",
    "version": 3
   },
   "file_extension": ".py",
   "mimetype": "text/x-python",
   "name": "python",
   "nbconvert_exporter": "python",
   "pygments_lexer": "ipython3",
   "version": "3.10.8"
  }
 },
 "nbformat": 4,
 "nbformat_minor": 5
}
